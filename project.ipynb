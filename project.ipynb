{
 "cells": [
  {
   "attachments": {},
   "cell_type": "markdown",
   "metadata": {},
   "source": [
    "### Fruit Recognition\n",
    "\n",
    "Stefano Nicolis, Pietro Turco"
   ]
  },
  {
   "attachments": {},
   "cell_type": "markdown",
   "metadata": {},
   "source": [
    "### 1. Libraries import"
   ]
  },
  {
   "cell_type": "code",
   "execution_count": 19,
   "metadata": {},
   "outputs": [],
   "source": [
    "import csv\n",
    "from PIL import Image as im\n",
    "import numpy as np\n",
    "import matplotlib.pyplot as plt\n",
    "from sklearn.model_selection import train_test_split\n",
    "from sklearn.neighbors import KNeighborsClassifier\n",
    "from sklearn.metrics import accuracy_score, precision_score, recall_score, confusion_matrix\n",
    "from sklearn.decomposition import PCA\n",
    "from sklearn.svm import SVC\n",
    "import numpy as np\n",
    "import torch.nn as nn\n",
    "from torch.utils.data import Dataset\n",
    "import torch"
   ]
  },
  {
   "attachments": {},
   "cell_type": "markdown",
   "metadata": {},
   "source": [
    "### 2. Dataset import"
   ]
  },
  {
   "cell_type": "code",
   "execution_count": 35,
   "metadata": {},
   "outputs": [
    {
     "name": "stdout",
     "output_type": "stream",
     "text": [
      "(2000, 14700)\n",
      "(8000, 14700)\n"
     ]
    }
   ],
   "source": [
    "data_set_path = 'C:\\\\F_drive\\\\Ste\\\\UNIVERSITÀ\\\\Magistrale\\\\ML&AI\\\\images\\\\selected_datasets\\\\dataset.csv'\n",
    "\n",
    "data_set = {} # { label : # images per label }\n",
    "\"\"\"\n",
    "with open(data_set_path, 'r') as csv_file:\n",
    "    csv_reader = csv.reader(csv_file)\n",
    "\n",
    "    for row in csv_reader:\n",
    "        key = (int)(row[0]) + 1\n",
    "        if(key in data_set.keys()):\n",
    "            data_set[key] += 1\n",
    "        else:            \n",
    "            data_set[key] = 1\n",
    "\n",
    "# Data to plot\n",
    "labels = []\n",
    "data = []\n",
    "\n",
    "for x, y in data_set.items():\n",
    "    labels.append(x)\n",
    "    data.append(y)\n",
    "\n",
    "# Plot\n",
    "plt.pie(data, labels=labels)\n",
    "\n",
    "plt.axis('equal')\n",
    "plt.show()\n",
    "\"\"\"\n",
    "\n",
    "data = np.loadtxt(open(data_set_path, \"rb\"), delimiter=\",\", dtype = int, skiprows=0)\n",
    "# Extract label column\n",
    "labels = data[:, 0]\n",
    "# Remove label column \n",
    "data = data[:,1:]\n",
    "\n",
    "# Split dataset into training and test, 80%/20%\n",
    "train_data, test_data, train_labels, test_labels = train_test_split(data, labels, test_size = 0.2)\n",
    "print(test_data.shape)\n",
    "print(train_data.shape)\n",
    "\n",
    "# Converte i dati e le etichette da NumPy a PyTorch Tensor\n",
    "train_data_cnn = torch.from_numpy(train_data).float()\n",
    "train_labels_cnn = torch.from_numpy(train_labels).long()\n",
    "test_data_cnn = torch.from_numpy(test_data).float()\n",
    "test_labels_cnn = torch.from_numpy(test_labels).long()"
   ]
  },
  {
   "cell_type": "markdown",
   "metadata": {},
   "source": [
    "### PCA"
   ]
  },
  {
   "cell_type": "code",
   "execution_count": 10,
   "metadata": {},
   "outputs": [
    {
     "name": "stdout",
     "output_type": "stream",
     "text": [
      "X_train_var after PCA with 1400 components: 0.9637198432596605\n",
      "X_train_var after PCA with 15 components: 0.8229459330729011\n",
      "X_train_var after PCA with 3 components: 0.5731766619235649\n"
     ]
    }
   ],
   "source": [
    "# Create reduced data sets with PCA\n",
    "pca = PCA(n_components = 140)\n",
    "train_data_cnn_pca = pca.fit_transform(train_data)\n",
    "test_data_pca = pca.transform(test_data)\n",
    "\n",
    "# Check the variances of the 40 selected components.\n",
    "X_train_var = np.var(train_data_pca)\n",
    "X_train_var = sum(pca.explained_variance_ratio_)\n",
    "print(\"X_train_var after PCA with 1400 components: \"+str(X_train_var))\n",
    "\n",
    "pca = PCA(n_components = 15)\n",
    "train_data_pca = pca.fit_transform(train_data)\n",
    "test_data_pca = pca.transform(test_data)\n",
    "\n",
    "# Check the variances of the 40 selected components.\n",
    "X_train_var = np.var(train_data_pca)\n",
    "X_train_var = sum(pca.explained_variance_ratio_)\n",
    "print(\"X_train_var after PCA with 15 components: \"+str(X_train_var))\n",
    "\n",
    "pca = PCA(n_components = 3)\n",
    "train_data_pca = pca.fit_transform(train_data)\n",
    "test_data_pca = pca.transform(test_data)\n",
    "\n",
    "# Check the variances of the 40 selected components.\n",
    "X_train_var = np.var(train_data_pca)\n",
    "X_train_var = sum(pca.explained_variance_ratio_)\n",
    "print(\"X_train_var after PCA with 3 components: \"+str(X_train_var))\n"
   ]
  },
  {
   "cell_type": "markdown",
   "metadata": {},
   "source": [
    "### 3. KNN, no PCA"
   ]
  },
  {
   "cell_type": "code",
   "execution_count": 3,
   "metadata": {},
   "outputs": [
    {
     "name": "stdout",
     "output_type": "stream",
     "text": [
      "Accuracy: 0.999\n"
     ]
    },
    {
     "data": {
      "text/plain": [
       "'\\nimport random\\n\\nSIZE = 1000\\nrandom_data = []\\nrandom_labels = []\\n\\n# Generate random dataset\\nfor x in range(SIZE):\\n    r = random.randint(0, 9999)\\n    random_data.append(data[r])\\n    random_labels.append(labels[r])\\n\\nknn = KNeighborsClassifier(n_neighbors=3)\\nknn.fit(random_data, random_labels)\\n\\nfor x in range(5):\\n    r = random.randint(0, SIZE)\\n    print(knn.predict([random_data[r]]))    \\n    print(random_labels[r])\\n    print(\"=======\")\\n'"
      ]
     },
     "execution_count": 3,
     "metadata": {},
     "output_type": "execute_result"
    }
   ],
   "source": [
    "\n",
    "knn = KNeighborsClassifier(n_neighbors=3)\n",
    "knn.fit(train_data, train_labels)\n",
    "\n",
    "result = knn.predict(test_data)\n",
    "\n",
    "accuracy = accuracy_score(result, test_labels)\n",
    "print(f'Accuracy: {accuracy}')\n",
    "\n",
    "\"\"\"\n",
    "import random\n",
    "\n",
    "SIZE = 1000\n",
    "random_data = []\n",
    "random_labels = []\n",
    "\n",
    "# Generate random dataset\n",
    "for x in range(SIZE):\n",
    "    r = random.randint(0, 9999)\n",
    "    random_data.append(data[r])\n",
    "    random_labels.append(labels[r])\n",
    "\n",
    "knn = KNeighborsClassifier(n_neighbors=3)\n",
    "knn.fit(random_data, random_labels)\n",
    "\n",
    "for x in range(5):\n",
    "    r = random.randint(0, SIZE)\n",
    "    print(knn.predict([random_data[r]]))    \n",
    "    print(random_labels[r])\n",
    "    print(\"=======\")\n",
    "\"\"\""
   ]
  },
  {
   "cell_type": "markdown",
   "metadata": {},
   "source": [
    "### 4. KNN, PCA"
   ]
  },
  {
   "cell_type": "code",
   "execution_count": 18,
   "metadata": {},
   "outputs": [],
   "source": [
    "knn = KNeighborsClassifier(n_neighbors=3)\n",
    "knn.fit(train_data_pca, train_labels)\n",
    "\n",
    "result = knn.predict(test_data_pca)\n",
    "\n",
    "accuracy = accuracy_score(result, test_labels)\n",
    "print(f'Accuracy: {accuracy}')"
   ]
  },
  {
   "cell_type": "markdown",
   "metadata": {},
   "source": [
    "### 5. SVM"
   ]
  },
  {
   "cell_type": "code",
   "execution_count": 6,
   "metadata": {},
   "outputs": [
    {
     "name": "stdout",
     "output_type": "stream",
     "text": [
      "created SVM C\n",
      "Fitted data\n",
      "predicted\n",
      "\n",
      "Support Vector Machines (SVM), KERNEL FUNCTION: linear, Results:\n",
      "Accuracy: 1.0\n",
      "Precision: 1.0\n",
      "Recall: 1.0\n"
     ]
    }
   ],
   "source": [
    "KF = ['linear', 'poly', 'rbf', 'sigmoid']\n",
    "\n",
    "svm_classifier = SVC(kernel='linear', decision_function_shape='ovr')\n",
    "print(\"created SVM C\")\n",
    "svm_classifier.fit(train_data, train_labels)\n",
    "print(\"Fitted data\")\n",
    "svm_pred = svm_classifier.predict(test_data)\n",
    "print(\"predicted\")\n",
    "\n",
    "svm_accuracy = accuracy_score(test_labels, svm_pred)\n",
    "svm_precision = precision_score(test_labels, svm_pred, average='macro')\n",
    "svm_recall = recall_score(test_labels, svm_pred, average='macro')\n",
    "svm_cm = confusion_matrix(test_labels, svm_pred)\n",
    "\n",
    "print(\"\\nSupport Vector Machines (SVM), KERNEL FUNCTION: \" + 'linear' + \", Results:\")\n",
    "print(\"Accuracy:\", svm_accuracy)\n",
    "print(\"Precision:\", svm_precision)\n",
    "print(\"Recall:\", svm_recall)\n",
    "    "
   ]
  },
  {
   "cell_type": "markdown",
   "metadata": {},
   "source": [
    "### 6. SVM, PCA"
   ]
  },
  {
   "cell_type": "code",
   "execution_count": 8,
   "metadata": {},
   "outputs": [
    {
     "name": "stdout",
     "output_type": "stream",
     "text": [
      "created SVM C\n",
      "Fitted data\n",
      "predicted\n",
      "\n",
      "Support Vector Machines (SVM), KERNEL FUNCTION: linear, Results:\n",
      "Accuracy: 1.0\n",
      "Precision: 1.0\n",
      "Recall: 1.0\n"
     ]
    }
   ],
   "source": [
    "KF = ['linear', 'poly', 'rbf', 'sigmoid']\n",
    "\n",
    "svm_classifier = SVC(kernel='linear', decision_function_shape='ovr')  # TODO studia ovr\n",
    "print(\"created SVM C\")\n",
    "svm_classifier.fit(train_data_pca, train_labels)\n",
    "print(\"Fitted data\")\n",
    "svm_pred = svm_classifier.predict(test_data_pca)\n",
    "print(\"predicted\")\n",
    "\n",
    "svm_accuracy = accuracy_score(test_labels, svm_pred)\n",
    "svm_precision = precision_score(test_labels, svm_pred, average='macro')\n",
    "svm_recall = recall_score(test_labels, svm_pred, average='macro')\n",
    "svm_cm = confusion_matrix(test_labels, svm_pred)\n",
    "\n",
    "print(\"\\nSupport Vector Machines (SVM), KERNEL FUNCTION: \" + 'linear' + \", Results:\")\n",
    "print(\"Accuracy:\", svm_accuracy)\n",
    "print(\"Precision:\", svm_precision)\n",
    "print(\"Recall:\", svm_recall)\n",
    "    "
   ]
  },
  {
   "cell_type": "markdown",
   "metadata": {},
   "source": [
    "### .7 CNN"
   ]
  },
  {
   "cell_type": "code",
   "execution_count": 38,
   "metadata": {},
   "outputs": [
    {
     "name": "stdout",
     "output_type": "stream",
     "text": [
      "Epoch: 1/20, Test Accuracy: 98.40%\n",
      "Epoch: 2/20, Test Accuracy: 98.50%\n",
      "Epoch: 3/20, Test Accuracy: 99.60%\n",
      "Epoch: 4/20, Test Accuracy: 96.80%\n",
      "Epoch: 5/20, Test Accuracy: 99.95%\n",
      "Epoch: 6/20, Test Accuracy: 99.75%\n",
      "Epoch: 7/20, Test Accuracy: 87.25%\n",
      "Epoch: 8/20, Test Accuracy: 99.90%\n",
      "Epoch: 9/20, Test Accuracy: 100.00%\n",
      "Epoch: 10/20, Test Accuracy: 100.00%\n",
      "Epoch: 11/20, Test Accuracy: 100.00%\n",
      "Epoch: 12/20, Test Accuracy: 100.00%\n",
      "Epoch: 13/20, Test Accuracy: 100.00%\n",
      "Epoch: 14/20, Test Accuracy: 100.00%\n",
      "Epoch: 15/20, Test Accuracy: 100.00%\n"
     ]
    },
    {
     "ename": "KeyboardInterrupt",
     "evalue": "",
     "output_type": "error",
     "traceback": [
      "\u001b[1;31m---------------------------------------------------------------------------\u001b[0m",
      "\u001b[1;31mKeyboardInterrupt\u001b[0m                         Traceback (most recent call last)",
      "Cell \u001b[1;32mIn[38], line 63\u001b[0m\n\u001b[0;32m     60\u001b[0m loss \u001b[39m=\u001b[39m criterion(output, target)\n\u001b[0;32m     62\u001b[0m \u001b[39m# Perform backpropagation to calculate gradients\u001b[39;00m\n\u001b[1;32m---> 63\u001b[0m loss\u001b[39m.\u001b[39;49mbackward()\n\u001b[0;32m     65\u001b[0m \u001b[39m# Update model weights\u001b[39;00m\n\u001b[0;32m     66\u001b[0m optimizer\u001b[39m.\u001b[39mstep()\n",
      "File \u001b[1;32mc:\\Users\\steni\\AppData\\Local\\Programs\\Python\\Python311\\Lib\\site-packages\\torch\\_tensor.py:487\u001b[0m, in \u001b[0;36mTensor.backward\u001b[1;34m(self, gradient, retain_graph, create_graph, inputs)\u001b[0m\n\u001b[0;32m    477\u001b[0m \u001b[39mif\u001b[39;00m has_torch_function_unary(\u001b[39mself\u001b[39m):\n\u001b[0;32m    478\u001b[0m     \u001b[39mreturn\u001b[39;00m handle_torch_function(\n\u001b[0;32m    479\u001b[0m         Tensor\u001b[39m.\u001b[39mbackward,\n\u001b[0;32m    480\u001b[0m         (\u001b[39mself\u001b[39m,),\n\u001b[1;32m   (...)\u001b[0m\n\u001b[0;32m    485\u001b[0m         inputs\u001b[39m=\u001b[39minputs,\n\u001b[0;32m    486\u001b[0m     )\n\u001b[1;32m--> 487\u001b[0m torch\u001b[39m.\u001b[39;49mautograd\u001b[39m.\u001b[39;49mbackward(\n\u001b[0;32m    488\u001b[0m     \u001b[39mself\u001b[39;49m, gradient, retain_graph, create_graph, inputs\u001b[39m=\u001b[39;49minputs\n\u001b[0;32m    489\u001b[0m )\n",
      "File \u001b[1;32mc:\\Users\\steni\\AppData\\Local\\Programs\\Python\\Python311\\Lib\\site-packages\\torch\\autograd\\__init__.py:200\u001b[0m, in \u001b[0;36mbackward\u001b[1;34m(tensors, grad_tensors, retain_graph, create_graph, grad_variables, inputs)\u001b[0m\n\u001b[0;32m    195\u001b[0m     retain_graph \u001b[39m=\u001b[39m create_graph\n\u001b[0;32m    197\u001b[0m \u001b[39m# The reason we repeat same the comment below is that\u001b[39;00m\n\u001b[0;32m    198\u001b[0m \u001b[39m# some Python versions print out the first line of a multi-line function\u001b[39;00m\n\u001b[0;32m    199\u001b[0m \u001b[39m# calls in the traceback and some print out the last line\u001b[39;00m\n\u001b[1;32m--> 200\u001b[0m Variable\u001b[39m.\u001b[39;49m_execution_engine\u001b[39m.\u001b[39;49mrun_backward(  \u001b[39m# Calls into the C++ engine to run the backward pass\u001b[39;49;00m\n\u001b[0;32m    201\u001b[0m     tensors, grad_tensors_, retain_graph, create_graph, inputs,\n\u001b[0;32m    202\u001b[0m     allow_unreachable\u001b[39m=\u001b[39;49m\u001b[39mTrue\u001b[39;49;00m, accumulate_grad\u001b[39m=\u001b[39;49m\u001b[39mTrue\u001b[39;49;00m)\n",
      "\u001b[1;31mKeyboardInterrupt\u001b[0m: "
     ]
    }
   ],
   "source": [
    "import numpy as np\n",
    "import torch\n",
    "import torch.nn as nn\n",
    "from torch.utils.data import DataLoader, TensorDataset\n",
    "\n",
    "class CNN(nn.Module):\n",
    "    def __init__(self, num_classes):\n",
    "        super(CNN, self).__init__()\n",
    "        self.conv1 = nn.Conv2d(in_channels=3, out_channels=32, kernel_size=3)\n",
    "        self.pool1 = nn.MaxPool2d(kernel_size=2)\n",
    "        self.conv2 = nn.Conv2d(in_channels=32, out_channels=64, kernel_size=3)\n",
    "        self.pool2 = nn.MaxPool2d(kernel_size=2)\n",
    "        self.flatten = nn.Flatten()\n",
    "        self.fc1 = nn.Linear(in_features=16384, out_features=128)\n",
    "        self.fc2 = nn.Linear(in_features=128, out_features=num_classes)\n",
    "\n",
    "    def forward(self, x):\n",
    "        x = nn.functional.relu(self.conv1(x))\n",
    "        x = self.pool1(x)\n",
    "        x = nn.functional.relu(self.conv2(x))\n",
    "        x = self.pool2(x)\n",
    "        x = self.flatten(x)\n",
    "        x = nn.functional.relu(self.fc1(x))\n",
    "        x = self.fc2(x)\n",
    "        return x\n",
    "\n",
    "# Create an instance of the CNN model\n",
    "model = CNN(num_classes=25)\n",
    "\n",
    "# Define the loss function and optimizer\n",
    "criterion = nn.CrossEntropyLoss()\n",
    "optimizer = torch.optim.Adam(model.parameters())\n",
    "\n",
    "# Train the model for a number of epochs\n",
    "num_epochs = 20\n",
    "batch_size = 64\n",
    "for epoch in range(num_epochs):\n",
    "    # Shuffle the training data at the start of each epoch\n",
    "    permutation = np.random.permutation(len(train_data_cnn))\n",
    "    train_data_cnn = train_data_cnn[permutation]\n",
    "    train_labels_cnn = train_labels_cnn[permutation]\n",
    "\n",
    "    # Split the training data into batches\n",
    "    num_batches = len(train_data_cnn) // batch_size\n",
    "    for batch_idx in range(num_batches):\n",
    "        # Select the current batch of data and labels\n",
    "        start = batch_idx * batch_size\n",
    "        end = start + batch_size\n",
    "        data, target = train_data_cnn[start:end], train_labels_cnn[start:end]\n",
    "\n",
    "        data = data.view(-1, 3, 70, 70)\n",
    "\n",
    "        # Zero gradients\n",
    "        optimizer.zero_grad()\n",
    "\n",
    "        # Make a prediction with the model\n",
    "        output = model(data)\n",
    "\n",
    "        # Calculate loss\n",
    "        loss = criterion(output, target)\n",
    "\n",
    "        # Perform backpropagation to calculate gradients\n",
    "        loss.backward()\n",
    "\n",
    "        # Update model weights\n",
    "        optimizer.step()\n",
    "\n",
    "    # Evaluate the model on the test set\n",
    "    correct = 0\n",
    "    total = 0\n",
    "    with torch.no_grad():\n",
    "        data, target = test_data_cnn, test_labels_cnn\n",
    "        data = data.view(-1, 3, 70, 70)\n",
    "        output = model(data)\n",
    "        _, predicted = torch.max(output.data, 1)\n",
    "        total += target.size(0)\n",
    "        correct += (predicted == target).sum().item()\n",
    "    accuracy = 100 * correct / total\n",
    "    print(f'Epoch: {epoch + 1}/{num_epochs}, Test Accuracy: {accuracy:.2f}%')"
   ]
  }
 ],
 "metadata": {
  "kernelspec": {
   "display_name": "Python 3",
   "language": "python",
   "name": "python3"
  },
  "language_info": {
   "codemirror_mode": {
    "name": "ipython",
    "version": 3
   },
   "file_extension": ".py",
   "mimetype": "text/x-python",
   "name": "python",
   "nbconvert_exporter": "python",
   "pygments_lexer": "ipython3",
   "version": "3.11.4"
  },
  "orig_nbformat": 4
 },
 "nbformat": 4,
 "nbformat_minor": 2
}
